{
 "cells": [
  {
   "cell_type": "markdown",
   "metadata": {},
   "source": [
    "Place the driver in the path of the system (I'm using chrome driver. You can choose any other driver depending upon your web browser)"
   ]
  },
  {
   "cell_type": "code",
   "execution_count": 2,
   "metadata": {},
   "outputs": [
    {
     "name": "stdout",
     "output_type": "stream",
     "text": [
      "E:\\Projects\\Kerala Floods\\Driver\n"
     ]
    }
   ],
   "source": [
    "cd E:/Projects/Kerala Floods/Driver"
   ]
  },
  {
   "cell_type": "markdown",
   "metadata": {},
   "source": [
    "#### The following code:\n",
    "\n",
    "1. convers every username from our previous file to a URL address\n",
    "\n",
    "2. saves those URLs in the same file cause all we need are those URLs \n",
    "\n",
    "3. driver opens every URL and fetches the location mentioned in the profile of the user\n",
    "\n",
    "4. saves all the locations to another text file"
   ]
  },
  {
   "cell_type": "code",
   "execution_count": null,
   "metadata": {},
   "outputs": [],
   "source": [
    "import pandas as pd\n",
    "from selenium import webdriver\n",
    "\n",
    "file = pd.read_fwf('Kerala_floods1.txt', index_col = 0)\n",
    "full_url = []\n",
    "for el in file.index:\n",
    "    m = 'https://twitter.com/' + str(el)\n",
    "    full_url.append(m)\n",
    "\n",
    "filename = 'Kerala_floods_url.txt'\n",
    "with open(filename, \"w\") as outfile:\n",
    "    for url in full_url:\n",
    "        outfile.write(str(url))\n",
    "        outfile.write(\"\\n\")\n",
    "\n",
    "locations = []\n",
    "count = 0\n",
    "for el in full_url:\n",
    "    driver = webdriver.Chrome()\n",
    "    driver.get(str(el))\n",
    "    loc = driver.find_element_by_class_name('ProfileHeaderCard-location').text\n",
    "    locations.append(loc)\n",
    "    count += 1\n",
    "    driver.close()\n",
    "    \n",
    "driver.close()\n",
    "     \n",
    "    \n",
    "with open(filename, \"loc\") as outfile:\n",
    "    for locs in locations:\n",
    "        outfile.write(locs)\n",
    "        outfile.write(\"\\n\")"
   ]
  },
  {
   "cell_type": "code",
   "execution_count": null,
   "metadata": {},
   "outputs": [],
   "source": []
  }
 ],
 "metadata": {
  "kernelspec": {
   "display_name": "Python 3",
   "language": "python",
   "name": "python3"
  },
  "language_info": {
   "codemirror_mode": {
    "name": "ipython",
    "version": 3
   },
   "file_extension": ".py",
   "mimetype": "text/x-python",
   "name": "python",
   "nbconvert_exporter": "python",
   "pygments_lexer": "ipython3",
   "version": "3.6.6"
  }
 },
 "nbformat": 4,
 "nbformat_minor": 2
}
