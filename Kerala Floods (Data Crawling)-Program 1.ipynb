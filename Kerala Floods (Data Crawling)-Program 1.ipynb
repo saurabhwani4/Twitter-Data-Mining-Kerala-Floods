{
 "cells": [
  {
   "cell_type": "markdown",
   "metadata": {},
   "source": [
    "#### Place the driver in the path of the system (I'm using chrome driver. You can choose any other driver depending upon your web browser)"
   ]
  },
  {
   "cell_type": "code",
   "execution_count": 1,
   "metadata": {},
   "outputs": [
    {
     "name": "stdout",
     "output_type": "stream",
     "text": [
      "E:\\Projects\\Kerala Floods\\Driver\n"
     ]
    }
   ],
   "source": [
    "cd E:/Projects/Kerala Floods/Driver  "
   ]
  },
  {
   "cell_type": "markdown",
   "metadata": {},
   "source": [
    "#### The following code:\n",
    "\n",
    "1. logs into my twitter account\n",
    "\n",
    "2. search for a specific hashtag that I provide \n",
    "\n",
    "3. scrolls down till the time condition is satisfied or it has reached the bottom of the feed (Which never happens cause people tweet a lot) \n",
    "\n",
    "4. after all the tweets are loaded it eliminates users with more than one tweet so that it doesn't count for more than once \n",
    "\n",
    "5. fetch the user name of every unique user in the loaded feed\n",
    "\n",
    "6. saves the user names in a text file"
   ]
  },
  {
   "cell_type": "code",
   "execution_count": null,
   "metadata": {
    "scrolled": false
   },
   "outputs": [],
   "source": [
    "from selenium import webdriver\n",
    "from getpass import getpass\n",
    "import time\n",
    "import csv\n",
    "\n",
    "#user_name = input('Enter Your User Name : ')\n",
    "user_name = \"Lol! I'm not gonna tell you that\"\n",
    "#password = getpass('Enter Your Password : ')\n",
    "password = 'Scw@26498'       \n",
    "search = input('What do you want to search : ')\n",
    "#search = '#helpkerala'\n",
    "\n",
    "t_end = time.time() + 1*60\n",
    "scheight = 0\n",
    "new_scheight = 1\n",
    "\n",
    "#REACHING THE REQUIRED HASHTAGS\n",
    "driver = webdriver.Chrome()\n",
    "driver.get('https://twitter.com/login')\n",
    "\n",
    "fill_userid = driver.find_element_by_class_name('js-username-field')\n",
    "fill_userid.send_keys(user_name)\n",
    "\n",
    "\n",
    "fill_password = driver.find_element_by_class_name('js-password-field')\n",
    "fill_password.send_keys(password)\n",
    "\n",
    "\n",
    "xpath = '//*[@id=\"page-container\"]/div/div[1]/form/div[2]/button' \n",
    "menu = driver.find_element_by_xpath(xpath)\n",
    "menu.click()\n",
    "time.sleep(5)\n",
    "\n",
    "searchid = driver.find_element_by_class_name('search-input')\n",
    "searchid.send_keys(search)\n",
    "\n",
    "\n",
    "#SCROLLING\n",
    "while time.time() < t_end:\n",
    "    driver.execute_script(\"window.scrollTo(0, document.body.scrollHeight);\")\n",
    "    new_scheight = driver.execute_script(\"return document.body.scrollHeight;\")\n",
    "    time.sleep(3)\n",
    "    if new_scheight == scheight:\n",
    "        break\n",
    "    scheight = new_scheight\n",
    "   \n",
    "elements = driver.execute_script(\"return document.getElementsByClassName('tweet js-stream-tweet js-actionable-tweet js-profile-popup-actionable dismissible-content original-tweet js-original-tweet');\")\n",
    "\n",
    "statusids = []\n",
    "tweet_els = driver.find_elements_by_class_name('tweet')\n",
    "for el in tweet_els:\n",
    "    x = el.get_attribute(\"\"\"data-screen-name\"\"\")\n",
    "    statusids.append(x)\n",
    "\n",
    "# Making the users unique so that data is not repeated\n",
    "statusids_clean = set(statusids)\n",
    "print(statusids_clean)\n",
    "a = list(statusids_clean)\n",
    "\n",
    "filename = input('What is the filename : ')\n",
    "count = 0\n",
    "with open(filename, \"w\") as outfile:\n",
    "    for ids in a:\n",
    "        outfile.write(str(ids))\n",
    "        outfile.write(\"\\n\")\n",
    "        count += 1\n",
    "\n",
    "driver.close()      \n",
    "\n",
    "    "
   ]
  },
  {
   "cell_type": "markdown",
   "metadata": {},
   "source": [
    "These are the number of unique user's locations captured in 1 min"
   ]
  },
  {
   "cell_type": "code",
   "execution_count": 12,
   "metadata": {},
   "outputs": [
    {
     "name": "stdout",
     "output_type": "stream",
     "text": [
      "171\n"
     ]
    }
   ],
   "source": [
    "print(count)"
   ]
  },
  {
   "cell_type": "code",
   "execution_count": null,
   "metadata": {},
   "outputs": [],
   "source": []
  }
 ],
 "metadata": {
  "kernelspec": {
   "display_name": "Python 3",
   "language": "python",
   "name": "python3"
  },
  "language_info": {
   "codemirror_mode": {
    "name": "ipython",
    "version": 3
   },
   "file_extension": ".py",
   "mimetype": "text/x-python",
   "name": "python",
   "nbconvert_exporter": "python",
   "pygments_lexer": "ipython3",
   "version": "3.6.6"
  }
 },
 "nbformat": 4,
 "nbformat_minor": 2
}
